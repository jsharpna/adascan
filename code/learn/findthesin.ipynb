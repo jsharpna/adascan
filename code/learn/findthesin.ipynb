{
 "cells": [
  {
   "cell_type": "raw",
   "metadata": {
    "slideshow": {
     "slide_type": "slide"
    }
   },
   "source": [
    "<link rel=\"stylesheet\" href=\"reveal.js/css/theme/sky.css\" id=\"theme\">"
   ]
  },
  {
   "cell_type": "markdown",
   "metadata": {
    "slideshow": {
     "slide_type": "slide"
    }
   },
   "source": [
    "The aptly named scan statistic is a test statistic that is based on scanning the random field $X^i$ for a pattern that may be centered anywhere in the domain.\n",
    "Scan statistics are widely used in spatial detection applications; see \\cite{glaz2001scan} for a thorough introduction to the topic.\n",
    "The multiscale scan statistic will not only translate a given pattern over the random field but will scan for scaled versions of that pattern as well, such as rectangles with many options of side lengths or circles of varying radii.\n",
    "In order to implement our scan, we begin by proposing a given pattern, which is a function $f \\in \\mathcal F$.\n",
    "We assume that $\\| f \\|_{L_2} = 1$ and is supported over $[-1,1]$.\n",
    "For a given field, $X^i$, we propose a scale and location parameter, $h \\in [h_L, h_U]^d, t \\in \\prod_j [h_j,1-h_j]$ respectively, and test if the pattern $f$ centered at $t$ and scaled by $h$ is hidden within image $X^i$.\n",
    "This is accomplished by convolving the field, $X^i$, with the scaled function $f_h: = f(. / h) / h$,\n",
    "\\begin{equation}\n",
    "(f_h \\star X^i)(t) = \\int \\frac{1}{h}f\\left( \\frac{\\tau - t}{h} \\right) {\\rm d} X^i(\\tau).\n",
    "\\end{equation}\n",
    "Notice that $\\|f_h\\|_{L_2} = 1$ as well, so under the null hypothesis, this has mean $0$ and variance $1$."
   ]
  },
  {
   "cell_type": "code",
   "execution_count": 1,
   "metadata": {
    "collapsed": true,
    "slideshow": {
     "slide_type": "slide"
    }
   },
   "outputs": [],
   "source": [
    "import numpy as np\n",
    "from matplotlib import pyplot as plt\n",
    "%matplotlib inline"
   ]
  },
  {
   "cell_type": "code",
   "execution_count": 2,
   "metadata": {
    "collapsed": true,
    "slideshow": {
     "slide_type": "notes"
    }
   },
   "outputs": [],
   "source": [
    "n = 100\n",
    "delta = 10\n",
    "g = 40\n",
    "X = np.linspace(0,n,n*delta)\n",
    "f = np.sin(np.linspace(0,1,g)*(2.*np.pi))\n",
    "#f = 2.* (np.arange(g) % 2) - 1\n",
    "f = f / np.linalg.norm(f)"
   ]
  },
  {
   "cell_type": "code",
   "execution_count": 3,
   "metadata": {
    "collapsed": true,
    "slideshow": {
     "slide_type": "notes"
    }
   },
   "outputs": [],
   "source": [
    "def Ysim(mu=3.):\n",
    "    Y = np.random.randn(n*delta)\n",
    "    F = np.zeros(n*delta)\n",
    "    i = np.random.randint(0,n*delta-g)\n",
    "    Y[i:i+g] += f*mu\n",
    "    F[i:i+g] += f*mu\n",
    "    return(Y,F)"
   ]
  },
  {
   "cell_type": "code",
   "execution_count": 4,
   "metadata": {
    "collapsed": true,
    "slideshow": {
     "slide_type": "notes"
    }
   },
   "outputs": [],
   "source": [
    "def Nsim():\n",
    "    Y = np.random.randn(n*delta)\n",
    "    return(Y)"
   ]
  },
  {
   "cell_type": "code",
   "execution_count": null,
   "metadata": {
    "collapsed": true,
    "slideshow": {
     "slide_type": "notes"
    }
   },
   "outputs": [],
   "source": []
  },
  {
   "cell_type": "code",
   "execution_count": 5,
   "metadata": {
    "collapsed": true,
    "slideshow": {
     "slide_type": "notes"
    }
   },
   "outputs": [],
   "source": [
    "Y,F = Ysim()"
   ]
  },
  {
   "cell_type": "code",
   "execution_count": 21,
   "metadata": {
    "slideshow": {
     "slide_type": "slide"
    }
   },
   "outputs": [
    {
     "data": {
      "image/png": "[encoded data removed]",
      "text/plain": [
       "<matplotlib.figure.Figure at 0x71543e31e0b8>"
      ]
     },
     "metadata": {},
     "output_type": "display_data"
    }
   ],
   "source": [
    "plt.plot(X,Y,'b.',markersize=3)\n",
    "_ = plt.plot(X,F,'r',lw=2)\n",
    "_ = plt.savefig('sineNoiseSig.png')"
   ]
  },
  {
   "cell_type": "code",
   "execution_count": 7,
   "metadata": {
    "collapsed": true,
    "slideshow": {
     "slide_type": "notes"
    }
   },
   "outputs": [],
   "source": [
    "fhat = np.random.randn(g)\n",
    "fhat = fhat / (np.sum(fhat**2.))**0.5"
   ]
  },
  {
   "cell_type": "code",
   "execution_count": 8,
   "metadata": {
    "collapsed": true,
    "slideshow": {
     "slide_type": "notes"
    }
   },
   "outputs": [],
   "source": [
    "def conv(Y,fhat):\n",
    "    g = len(fhat)\n",
    "    return(np.array([np.sum(Y[i:i+g]*fhat) for i in range(len(Y) - g)]))"
   ]
  },
  {
   "cell_type": "code",
   "execution_count": 9,
   "metadata": {
    "collapsed": true,
    "slideshow": {
     "slide_type": "notes"
    }
   },
   "outputs": [],
   "source": [
    "yc = conv(Y,fhat)\n",
    "i = np.argmax(yc)\n",
    "cm = np.max(yc) - (2.*np.log(n))**0.5"
   ]
  },
  {
   "cell_type": "code",
   "execution_count": 10,
   "metadata": {
    "collapsed": true,
    "slideshow": {
     "slide_type": "notes"
    }
   },
   "outputs": [],
   "source": [
    "def maxi(x,fhat,gamma = 1):\n",
    "    xc = conv(x,fhat)\n",
    "    xe = np.exp(np.abs(xc)**gamma)\n",
    "    sm = np.log(np.sum(xe))\n",
    "    g = len(fhat)\n",
    "    gm = [gamma * np.sum(np.sign(xc) * np.abs(xc)**(gamma - 1) * xe * x[j:-(g-j)]) / np.sum(xe) for j in range(g)]\n",
    "    return(sm,np.array(gm))"
   ]
  },
  {
   "cell_type": "code",
   "execution_count": 11,
   "metadata": {
    "collapsed": true,
    "slideshow": {
     "slide_type": "notes"
    }
   },
   "outputs": [],
   "source": [
    "def maxinf(x,fhat):\n",
    "    xc = conv(x,fhat)\n",
    "    sm = np.max(np.abs(xc))\n",
    "    g = len(fhat)\n",
    "    gm = [np.sum((np.abs(xc)==sm) * x[j:-(g-j)]) for j in range(g)]\n",
    "    return(sm,np.array(gm))"
   ]
  },
  {
   "cell_type": "code",
   "execution_count": 12,
   "metadata": {
    "collapsed": true,
    "slideshow": {
     "slide_type": "notes"
    }
   },
   "outputs": [],
   "source": [
    "sm, gm = maxinf(Y,fhat)"
   ]
  },
  {
   "cell_type": "code",
   "execution_count": 13,
   "metadata": {
    "collapsed": true,
    "slideshow": {
     "slide_type": "notes"
    }
   },
   "outputs": [],
   "source": [
    "fhat = np.random.randn(g)\n",
    "fhat = fhat / (np.sum(fhat**2.))**0.5"
   ]
  },
  {
   "cell_type": "code",
   "execution_count": 14,
   "metadata": {
    "collapsed": true,
    "slideshow": {
     "slide_type": "notes"
    }
   },
   "outputs": [],
   "source": [
    "for t in range(200):\n",
    "    Y, _ = Ysim()\n",
    "    sm, gm = maxi(Y,fhat,gamma=1.)\n",
    "    fhat += 10.*(t+1)**(-0.5) * gm\n",
    "    fhat = fhat / np.linalg.norm(fhat)"
   ]
  },
  {
   "cell_type": "code",
   "execution_count": 16,
   "metadata": {
    "slideshow": {
     "slide_type": "slide"
    }
   },
   "outputs": [
    {
     "data": {
      "image/png": "[encoded data removed]",
      "text/plain": [
       "<matplotlib.figure.Figure at 0x71543e777dd8>"
      ]
     },
     "metadata": {},
     "output_type": "display_data"
    }
   ],
   "source": [
    "_ = plt.plot(fhat,'b--',label=\"estimated signal\")\n",
    "_ = plt.plot(f/np.linalg.norm(f),'r',label=\"signal\")\n",
    "plt.legend()\n",
    "_ = plt.savefig('sineSig.png')"
   ]
  },
  {
   "cell_type": "code",
   "execution_count": 616,
   "metadata": {
    "collapsed": true,
    "slideshow": {
     "slide_type": "notes"
    }
   },
   "outputs": [],
   "source": [
    "def sqrscan(Y):\n",
    "    return(np.max(conv(Y**2 - 1, np.ones(g)/g**0.5)))"
   ]
  },
  {
   "cell_type": "code",
   "execution_count": 623,
   "metadata": {
    "collapsed": true,
    "slideshow": {
     "slide_type": "notes"
    }
   },
   "outputs": [],
   "source": [
    "def learnscan(Y):\n",
    "    return(np.max(np.abs(conv(Y,fhat))))"
   ]
  },
  {
   "cell_type": "code",
   "execution_count": 683,
   "metadata": {
    "collapsed": true,
    "slideshow": {
     "slide_type": "notes"
    }
   },
   "outputs": [],
   "source": [
    "T = 1000\n",
    "lnull = [learnscan(Nsim()) for i in range(T)]\n",
    "snull = [sqrscan(Nsim()) for i in range(T)]\n",
    "lalt = [learnscan(Ysim()[0]) for i in range(T)]\n",
    "salt = [sqrscan(Ysim()[0]) for i in range(T)]"
   ]
  },
  {
   "cell_type": "code",
   "execution_count": 684,
   "metadata": {
    "collapsed": true,
    "slideshow": {
     "slide_type": "notes"
    }
   },
   "outputs": [],
   "source": [
    "ltpr = [np.mean(lalt > st) for st in np.sort(lnull)]\n",
    "stpr = [np.mean(salt > st) for st in np.sort(snull)]\n",
    "fpr = 1. - np.linspace(0,1,T)"
   ]
  },
  {
   "cell_type": "code",
   "execution_count": 685,
   "metadata": {
    "slideshow": {
     "slide_type": "slide"
    }
   },
   "outputs": [
    {
     "data": {
      "image/png": "[encoded data removed]",
      "text/plain": [
       "<matplotlib.figure.Figure at 0x70b33d438c88>"
      ]
     },
     "metadata": {},
     "output_type": "display_data"
    }
   ],
   "source": [
    "plt.plot(fpr,ltpr,'b-',label=\"learned f\")\n",
    "plt.plot(fpr,stpr,'r--',label=\"chi-sq scan\")\n",
    "plt.legend(loc=4)\n",
    "plt.xlabel('FPR')\n",
    "plt.ylabel('TPR')\n",
    "plt.savefig('sineROC.png')"
   ]
  },
  {
   "cell_type": "code",
   "execution_count": 599,
   "metadata": {
    "slideshow": {
     "slide_type": "notes"
    }
   },
   "outputs": [
    {
     "data": {
      "image/png": "[encoded data removed]",
      "text/plain": [
       "<matplotlib.figure.Figure at 0x70b33f551390>"
      ]
     },
     "metadata": {},
     "output_type": "display_data"
    }
   ],
   "source": [
    "for t in range(100):\n",
    "    Y, _ = Ysim()\n",
    "    sm, gm = maxinf(Y,fhat)\n",
    "    if sm < (2.*np.log(n*delta))**0.5:\n",
    "        gm = np.random.randn(g)\n",
    "        fhat += .2*gm\n",
    "    else:\n",
    "        fhat += gm\n",
    "    fhat = fhat / np.linalg.norm(fhat)\n",
    "\n",
    "_ = plt.plot(fhat)\n",
    "_ = plt.plot(f/np.linalg.norm(f),'r')"
   ]
  },
  {
   "cell_type": "code",
   "execution_count": 578,
   "metadata": {
    "slideshow": {
     "slide_type": "notes"
    }
   },
   "outputs": [
    {
     "data": {
      "text/plain": [
       "array([ -2.32128453e+00,  -1.08236081e+00,  -2.23401484e+00,\n",
       "         1.25504406e+00,  -4.31335875e-01,  -1.01729434e+00,\n",
       "        -1.14096080e+00,  -1.28668665e-01,  -2.28952037e+00,\n",
       "        -5.79983874e-01,   1.63501127e-01,  -2.17823173e+00,\n",
       "         7.61441494e-01,  -9.67914631e-01,  -3.63569441e-01,\n",
       "        -6.67841359e-01,  -4.04267356e-01,   1.15654529e+00,\n",
       "         1.90905344e-01,  -1.61179203e+00,  -1.93585043e+00,\n",
       "         6.01738678e-01,   1.72517787e+00,  -1.08503178e+00,\n",
       "        -9.80690897e-01,  -1.65020696e+00,   1.21452611e+00,\n",
       "        -1.02538209e+00,   6.65042537e-01,   2.72779043e-01,\n",
       "        -5.07429071e-01,   8.34916157e-03,   1.23369635e+00,\n",
       "         8.16955540e-01,   4.84012236e-01,  -2.92808093e-01,\n",
       "         1.09248790e+00,  -7.68204597e-03,   1.77229069e-01,\n",
       "        -1.35063045e+00,   1.87002564e+00,   1.19957568e+00,\n",
       "        -2.79467334e-01,  -1.19063435e+00,  -6.97203558e-01,\n",
       "         2.82660127e+00,   8.00473798e-01,   1.09955728e+00,\n",
       "        -2.34194553e-01,   1.75749819e-01,   1.39231799e+00,\n",
       "         1.29839003e+00,   1.61601273e+00,  -5.77091375e-01,\n",
       "         7.10213550e-02,   1.55937732e+00,   1.07661328e+00,\n",
       "         8.19442270e-01,  -3.79962291e-01,   2.55568108e-01,\n",
       "         1.21535017e+00,   2.73254983e+00,  -1.53232638e+00,\n",
       "         3.30615179e-01,   1.29879070e+00,   2.17938932e-01,\n",
       "         1.02334425e+00,   4.13907321e-01,  -5.50149480e-01,\n",
       "        -6.60366602e-01,   2.76553637e+00,  -8.79815470e-01,\n",
       "         6.85194214e-01,  -4.71162137e-01,  -6.32847272e-01,\n",
       "         1.19117831e+00,   2.16474490e-01,  -1.49510837e+00,\n",
       "        -1.43511521e+00,   2.47564970e-01,  -1.07656991e+00,\n",
       "         1.30386779e+00,   2.28915403e-01,  -8.14501115e-01,\n",
       "         3.35753176e-02,  -6.21321812e-01,   2.63327916e+00,\n",
       "         5.13102533e-01,  -2.61411798e-02,   5.64330930e-01,\n",
       "         1.05092921e+00,   2.17704851e+00,  -3.45209740e-01,\n",
       "         1.41089535e+00,   5.83254661e-01,   1.14454324e+00,\n",
       "         2.18347142e+00,   4.16921106e-01,   6.90814467e-01,\n",
       "         1.15661795e+00,  -2.02567216e-01,   2.75098357e+00,\n",
       "        -7.44089674e-01,   1.49941799e+00,  -4.75432258e-02,\n",
       "         5.46618408e-01,   9.77367014e-01,   6.14142913e-01,\n",
       "         9.61790850e-01,   1.19716533e-01,   2.88082915e+00,\n",
       "         1.00515329e+00,   3.76179919e-01,   1.00426749e+00,\n",
       "         1.04026099e+00,   9.57153244e-01,   1.51573881e+00,\n",
       "         1.93613461e-02,  -9.23014486e-02,   2.14910658e+00,\n",
       "         8.49354641e-01,   5.31353627e-01,   8.63115621e-01,\n",
       "         1.18106240e+00,   1.05163640e+00,   7.84747464e-01,\n",
       "         1.48893194e+00,  -7.67265008e-01,  -9.65834439e-01,\n",
       "        -5.69684044e-01,  -1.11667637e-01,  -1.32397327e+00,\n",
       "         6.58613121e-01,  -6.53670614e-01,  -6.24424950e-01,\n",
       "         4.58358943e-01,   4.92040364e-01,  -2.14226970e+00,\n",
       "         7.46371363e-01,   3.32990668e-01,  -2.30896568e+00,\n",
       "        -7.48699112e-01,   1.66501264e-01,  -5.14820573e-01,\n",
       "        -9.34488227e-01,   2.82411051e-01,  -9.28520508e-01,\n",
       "        -5.16269755e-02,   1.29284724e+00,  -1.54789003e+00,\n",
       "         6.72775883e-01,  -1.43192293e+00,   6.18191552e-01,\n",
       "        -1.62191290e+00,  -2.43506301e-01,  -1.06953444e-01,\n",
       "        -1.50590589e+00,  -3.92249576e-01,  -1.47236281e-01,\n",
       "        -2.30068671e-02,  -1.83985876e+00,   4.72973123e-01,\n",
       "         1.18095913e-01,   8.07701233e-01,  -5.39671189e-02,\n",
       "        -8.03595363e-01,   1.45102918e+00,   1.45963198e+00,\n",
       "         9.04475728e-01,  -7.42326282e-01,   6.65407806e-02,\n",
       "        -6.28761795e-01,   9.11475584e-01,   7.53682796e-01,\n",
       "        -7.39835326e-01,   5.43695120e-01,  -1.72172871e+00,\n",
       "        -3.23603500e-01,   1.51184884e+00,  -1.51088955e+00,\n",
       "        -1.95234766e+00,   1.15933660e+00,  -2.99038613e-01,\n",
       "         5.39335721e-01,  -3.83114406e-02,  -2.25501695e-01,\n",
       "         3.63221828e-01,   1.44538146e+00,  -3.07993079e-01,\n",
       "         8.22674535e-01,   3.94447412e-01,   7.17332148e-01,\n",
       "        -2.07404766e+00,   9.42867355e-01,   5.81047688e-01,\n",
       "        -1.24739201e+00,  -7.55197070e-01,   9.03614269e-02,\n",
       "         2.31248155e-01,  -2.05180169e+00,   9.73877497e-02,\n",
       "         9.32619873e-02,  -2.02745705e+00,   8.20867030e-01,\n",
       "        -1.88003231e+00,   6.12704042e-01,   7.17788023e-01,\n",
       "         4.62551257e-01,  -6.43538842e-01,   7.91302021e-01,\n",
       "         8.65521478e-01,  -1.95875555e+00,   1.00275408e+00,\n",
       "         2.29305124e-02,  -6.99672651e-01,  -1.46441032e+00,\n",
       "         7.20523879e-01,  -4.65672831e-01,  -3.58495281e-01,\n",
       "         1.25581614e+00,  -1.75088708e+00,  -2.01377078e-01,\n",
       "         1.46122463e+00,  -7.27539092e-01,  -5.48629826e-01,\n",
       "         1.35355937e+00,   7.80876922e-01,  -7.36216778e-01,\n",
       "         1.17405335e+00,   4.35846329e-01,   1.01055507e+00,\n",
       "         1.07663426e+00,   1.33004358e+00,   1.22043003e+00,\n",
       "        -8.98968595e-01,   1.11515395e+00,   1.38130417e+00,\n",
       "         1.01506755e+00,   4.16158220e-02,  -5.26044741e-01,\n",
       "         1.07551272e+00,   1.08744783e+00,   1.27934721e+00,\n",
       "         5.69503311e-01,  -4.77887806e-01,   7.33780547e-01,\n",
       "        -2.57879933e-01,   2.70945778e+00,   3.81732335e-01,\n",
       "         1.68104724e+00,   1.51215680e+00,   6.29381849e-01,\n",
       "         8.37561501e-01,   8.10942336e-01,   2.73735897e-01,\n",
       "         6.56471018e-01,  -2.36953439e-01,  -7.59005756e-01,\n",
       "         1.87048160e-01,   1.63919396e+00,  -1.46212579e+00,\n",
       "         1.68857582e+00,  -2.94070683e-01,   7.26318451e-01,\n",
       "        -1.33288817e+00,  -2.71465599e-01,   1.35065928e-01,\n",
       "        -6.89926383e-01,  -7.69328933e-02,  -1.43959764e+00,\n",
       "        -4.62460068e-01,  -3.08795816e-01,   3.87439254e-01,\n",
       "         9.61955759e-01,   6.53645852e-01,   6.96166659e-01,\n",
       "        -1.06476398e+00,   6.76488177e-01,   1.23471515e-01,\n",
       "        -3.46784556e-01,  -1.67779774e+00,  -5.24101805e-01,\n",
       "        -1.76773997e+00,  -6.39200311e-01,  -7.01324778e-01,\n",
       "        -1.22758137e+00,   5.47401707e-02,  -1.28167838e+00,\n",
       "        -1.13007958e+00,  -7.74162583e-01,  -5.54573513e-01,\n",
       "         3.09721358e-01,  -1.82422132e+00,  -2.99548301e-01,\n",
       "         4.42483121e-01,   1.03540961e+00,   8.71764227e-01,\n",
       "         4.74598910e-01,  -2.32652993e-01,   1.13228323e-01,\n",
       "         7.47396073e-01,   1.17941685e+00,   1.37637011e-01,\n",
       "        -8.10940338e-01,  -6.82264705e-01,  -1.80926338e-01,\n",
       "         1.25458020e+00,   4.61459926e-01,  -1.53697799e+00,\n",
       "        -1.67884777e+00,  -4.77600158e-01,  -1.78784932e+00,\n",
       "        -4.96007794e-01,   9.18970118e-02,  -9.69319245e-01,\n",
       "         8.05656342e-02,  -6.57243956e-02,   1.55095493e+00,\n",
       "         1.56840630e+00,   1.38791759e+00,   1.13556725e+00,\n",
       "         1.22901228e+00,  -6.80546395e-01,  -4.57030561e-01,\n",
       "         8.10955976e-01,   1.76094831e-01,   6.90939714e-01,\n",
       "         9.90202084e-02,  -1.35975371e+00,   3.28738744e-01,\n",
       "         4.77057638e-01,  -1.08737606e-01,  -1.95577618e+00,\n",
       "        -5.62546102e-01,  -1.29681896e+00,  -9.12972364e-01,\n",
       "         6.55538755e-01,   5.78082678e-01,   1.01113546e+00,\n",
       "         5.50860432e-01,   1.87412717e+00,   9.53750956e-01,\n",
       "         6.56957635e-01,  -7.15910105e-01,   1.05179349e+00,\n",
       "        -1.56577345e+00,   3.46696841e-01,   4.98653948e-02,\n",
       "         2.41019972e-02,  -6.73264515e-02,   1.65787658e-02,\n",
       "        -1.00643203e+00,  -7.26003404e-01,   1.93849495e-01,\n",
       "        -7.01533707e-01,  -5.95531708e-01,   1.07846164e-01,\n",
       "        -1.34324199e+00,  -9.65555213e-01,   8.43104838e-01,\n",
       "         9.32552869e-01,  -1.52392086e-02,   5.97463827e-01,\n",
       "         5.01312834e-01,   5.69396804e-01,  -1.20943819e+00,\n",
       "         3.24155650e-01,   1.61003294e-01,  -1.58801714e+00,\n",
       "         1.36742293e+00,  -3.25318141e-01,  -4.06286356e-01,\n",
       "         9.38785804e-01,   9.14244242e-01,  -4.85468461e-01,\n",
       "         1.23711143e+00,   8.12863585e-02,  -2.85741004e-01,\n",
       "         1.00518702e+00,   5.41409306e-01,   4.82535497e-01,\n",
       "        -7.50331412e-01,   8.42807543e-01,   2.29069515e-01,\n",
       "         1.43302705e+00,  -1.10420171e+00,  -2.93652281e-01,\n",
       "        -4.26828278e-01,   7.63527329e-01,   9.66554916e-02,\n",
       "         1.77660142e-01,  -1.99318192e+00,  -4.32281368e-01,\n",
       "         1.33952295e+00,   8.20905275e-01,   2.84329994e-01,\n",
       "         5.27306553e-02,   9.06063351e-01,   2.21394516e+00,\n",
       "         9.13294794e-02,   4.50629591e-01,  -5.04244673e-01,\n",
       "         3.94430188e-01,  -5.98632448e-01,   1.44232361e+00,\n",
       "         1.29791684e-01,  -1.37464620e+00,  -3.06505555e-01,\n",
       "        -1.28806318e-01,   7.05199377e-01,   1.46034150e-01,\n",
       "        -1.23207541e+00,  -6.47349687e-01,  -2.68618813e-01,\n",
       "        -1.05740678e+00,  -1.34689779e+00,   1.28727565e+00,\n",
       "         4.20905639e-02,  -8.21533468e-03,  -1.43178448e+00,\n",
       "         5.04284583e-01,  -4.71833916e-01,   3.74104480e-02,\n",
       "        -2.23678372e+00,  -6.02711373e-02,  -1.18267824e+00,\n",
       "        -1.95608140e+00,  -6.94628548e-01,   7.25001689e-01,\n",
       "        -6.84920625e-01,   1.19026920e-01,   9.89175731e-01,\n",
       "        -2.77525891e-01,  -3.66008975e-01,   1.77867528e-01,\n",
       "         1.04644513e-01,  -1.27473655e-01,  -8.41957860e-03,\n",
       "        -4.50484592e-01,  -3.67764464e-01,   3.06127811e-01,\n",
       "        -1.32264699e+00,  -8.21452238e-01,  -2.12607522e-01,\n",
       "        -7.59098515e-01,   1.75233020e-01,  -1.09152259e+00,\n",
       "         8.56691457e-02,  -1.55171227e+00,   1.63743912e+00,\n",
       "        -1.68842542e+00,   1.08428067e+00,   3.35319473e-01,\n",
       "         5.72329378e-01,  -1.30621337e+00,   1.10866240e+00,\n",
       "        -2.75234953e-01,  -7.61567456e-01,   6.90472187e-01,\n",
       "         4.92501655e-01,  -1.01544857e+00,  -3.05952889e-02,\n",
       "        -1.45562699e+00,  -1.75149992e-01,  -1.48279343e-01,\n",
       "        -7.22583762e-01,  -1.08387666e+00,  -1.39534139e-01,\n",
       "         1.84907040e-01,   1.10722297e-01,  -7.12176616e-01,\n",
       "         9.32058816e-01,  -1.33904486e+00,  -7.41469753e-01,\n",
       "         5.10734622e-01,  -9.93784600e-01,  -1.27772272e+00,\n",
       "        -3.58167687e-01,  -1.65267248e-01,  -1.02262105e+00,\n",
       "         3.97736271e-01,  -3.96796153e-01,   3.23526880e-03,\n",
       "         6.74068629e-01,   1.81121599e-01,  -9.19580941e-01,\n",
       "        -1.95885372e-01,   4.39671120e-01,   7.10996986e-01,\n",
       "        -1.19041269e+00,  -2.68877610e-01,  -6.78799198e-01,\n",
       "        -4.69521438e-01,   3.44615978e-01,  -7.31129976e-02,\n",
       "        -6.11779190e-01,  -9.45428274e-01,  -2.85442491e-01,\n",
       "        -6.07550840e-01,   6.82475093e-01,   8.26820999e-01,\n",
       "        -5.60577354e-01,   6.88591652e-01,   1.70052972e-01,\n",
       "         4.41172946e-01,   1.10618616e+00,   1.86343540e+00,\n",
       "         2.93284502e-01,  -3.30561921e-01,  -7.90217626e-01,\n",
       "         4.20127989e-01,   7.72862075e-01,   9.07990895e-01,\n",
       "         3.06328385e-01,   3.04585328e-03,   9.11837361e-01,\n",
       "        -1.70386274e-01,   2.28805624e-01,  -6.77509973e-01,\n",
       "         3.47755762e-01,  -1.00725955e-02,  -4.88596641e-01,\n",
       "        -1.00234036e+00,  -1.21129853e+00,  -5.55834856e-01,\n",
       "         1.51453840e+00,   5.81105598e-01,  -9.16484840e-01,\n",
       "        -3.55297559e-01,  -2.98529578e-01,   1.54581105e+00,\n",
       "        -4.70878418e-01,  -1.97529454e-01,  -2.17322829e+00,\n",
       "        -1.85744567e-01,  -7.71542959e-01,  -8.76342860e-02,\n",
       "        -6.37287926e-01,  -9.74365026e-01,  -2.89846738e-01,\n",
       "         7.60068012e-01,   6.10063455e-01,  -2.08682237e+00,\n",
       "        -9.30229380e-01,  -2.15186344e-02,  -1.39950112e+00,\n",
       "        -1.12350649e-01,  -2.45992272e+00,   2.02269597e-02,\n",
       "        -1.83830129e+00,   2.69828130e-01,  -9.05217699e-01,\n",
       "        -1.13208455e+00,   7.37281184e-02,  -4.08983599e-01,\n",
       "         1.65104987e+00,  -1.44672758e+00,  -3.18866906e-01,\n",
       "        -2.11748378e+00,  -1.08047317e+00,   2.60921475e-01,\n",
       "        -7.34668230e-01,  -5.27634809e-01,  -1.36516188e+00,\n",
       "        -3.97901409e-01,  -3.60375356e-01,   1.12576890e-01,\n",
       "         8.16834210e-01,  -1.83095854e+00,   9.12224889e-01,\n",
       "        -7.02035779e-01,   5.66054497e-01,  -1.39976418e+00,\n",
       "        -8.54739196e-02,  -2.25371890e-01,   1.25723542e-01,\n",
       "         4.19721262e-01,  -1.73158692e+00,  -2.51585832e-01,\n",
       "        -1.34075672e+00,  -4.10499594e-01,  -1.10913488e+00,\n",
       "        -6.53572247e-01,  -1.57787586e+00,  -1.87815659e+00,\n",
       "         1.24875721e+00,  -1.39392618e+00,  -3.05442821e-01,\n",
       "        -5.37659020e-01,  -1.75726004e+00,   3.79504765e-01,\n",
       "        -2.36027840e+00,   9.16763944e-01,  -1.97920486e+00,\n",
       "         3.29681791e-01,  -9.66070843e-01,   7.71728401e-03,\n",
       "         2.36535983e-01,  -2.31327089e+00,   6.48283503e-01,\n",
       "        -1.49945315e+00,  -7.86677611e-01,  -1.08581380e+00,\n",
       "        -2.04430398e+00,  -6.29560437e-01,  -2.49435896e+00,\n",
       "        -7.61352860e-01,  -2.39346904e+00,   6.99809385e-01,\n",
       "        -5.07381581e-01,  -1.53102653e+00,  -6.84378147e-01,\n",
       "        -2.19984099e+00,   1.65842742e+00,  -2.86318712e+00,\n",
       "         8.92169344e-01,  -1.75947265e+00,  -7.53135399e-01,\n",
       "         2.31056770e-01,  -1.13917753e-01,  -9.24043385e-01,\n",
       "        -6.02339026e-01,  -2.30254243e-02,  -1.31261669e-01,\n",
       "        -4.88682965e-01,   1.70406217e-01,  -1.13336433e+00,\n",
       "         4.36662172e-01,  -1.74397933e+00,   5.30354837e-01,\n",
       "         2.00489772e-01,  -1.85485298e-01,   3.21450995e-01,\n",
       "        -5.77830315e-01,   8.14913631e-01,   1.16541987e-01,\n",
       "         1.46042858e+00,  -9.79003544e-02,   8.26844073e-01,\n",
       "         6.87652102e-01,  -5.62072513e-01,   4.12442544e-01,\n",
       "         5.96201837e-01,  -2.07243288e-01,   5.42705715e-01,\n",
       "         5.49113195e-01,   1.24782391e+00,  -8.42950311e-01,\n",
       "         1.91350317e+00,  -3.67392680e-01,   2.30724842e+00,\n",
       "         9.87420549e-01,  -2.00050337e+00,  -8.16273914e-01,\n",
       "         1.13937329e+00,   1.27498976e+00,   7.66819781e-01,\n",
       "         1.40390691e-01,   1.65245404e-01,   1.44457022e+00,\n",
       "         3.69665990e-01,   2.90622008e-01,   1.05538857e+00,\n",
       "        -2.57115927e-01,   9.07971197e-01,   5.30542172e-01,\n",
       "        -5.99346446e-03,   3.97243642e-01,  -7.41443295e-01,\n",
       "        -1.86756272e-01,   2.75230189e+00,  -6.60363279e-01,\n",
       "        -7.78571697e-01,  -5.17199466e-01,  -2.84275289e-01,\n",
       "         1.57271723e-02,  -1.53876988e+00,  -8.64885820e-01,\n",
       "        -2.33660847e-01,  -4.60674731e-02,  -3.80501146e-01,\n",
       "        -2.76854016e-03,   2.15963766e-01,  -3.04978465e-01,\n",
       "        -7.37669986e-02,  -1.54243600e+00,   1.19882838e+00,\n",
       "        -1.01927820e+00,  -2.52878312e+00,   4.53541200e-01,\n",
       "        -1.26472735e+00,  -8.24817273e-01,  -1.82570331e+00,\n",
       "        -7.45487233e-01,  -1.38802582e+00,  -6.04694106e-03,\n",
       "        -1.70834503e+00,   6.54821613e-01,   1.46321995e+00,\n",
       "        -1.47629521e+00,  -7.95478227e-01,  -2.32134275e-02,\n",
       "        -9.59678162e-01,  -9.73817326e-01,  -1.03329794e+00,\n",
       "        -8.06885686e-01,  -2.50031299e-01,  -1.21651471e+00,\n",
       "        -1.27468615e+00,  -2.64381452e-01,   2.78927587e-01,\n",
       "        -1.03020212e+00,  -1.79286946e+00,  -9.32246581e-02,\n",
       "        -4.03655149e-01,  -1.48369436e+00,  -5.35067849e-01,\n",
       "        -3.09205576e-01,   5.70639671e-02,  -1.05601693e+00,\n",
       "         1.37432207e+00,  -2.41120351e-01,  -5.14304393e-01,\n",
       "        -9.81780224e-02,   8.22471866e-01,  -9.70658921e-01,\n",
       "         8.73694705e-01,   9.62847312e-02,  -1.63941649e+00,\n",
       "         1.08737138e+00,  -5.74815715e-01,  -3.59238135e-01,\n",
       "         8.28925385e-01,  -5.12153641e-01,  -2.22739483e+00,\n",
       "         1.02911569e-02,  -1.27161343e+00,   1.74079018e-01,\n",
       "        -4.77426366e-01,  -3.46385174e-01,   6.61888772e-01,\n",
       "        -1.20384470e-01,  -4.14262021e-02,  -4.48336560e-02,\n",
       "         3.62500266e-02,  -3.27470192e-01,   3.08895557e-01,\n",
       "         4.44681506e-01,  -2.42424360e-01,   1.74645901e+00,\n",
       "        -9.43322971e-01,  -5.67165345e-02,   1.87166482e+00,\n",
       "        -5.43109046e-01,  -9.27941377e-02,  -9.12032237e-02,\n",
       "        -1.08074267e+00,  -1.24194217e-01,  -1.18826110e+00,\n",
       "        -1.57179807e+00,   6.88390384e-01,   7.76465040e-01,\n",
       "         4.27808441e-01,   4.45955330e-01,  -4.57778277e-01,\n",
       "         1.14831183e+00,  -1.16370697e+00,   2.30906236e-01,\n",
       "         2.67161124e-03,   2.89978264e-01,  -1.33330488e+00,\n",
       "         8.75857654e-01,   1.58364980e+00,  -5.34456753e-01,\n",
       "         7.77954186e-01,  -4.52879593e-02,  -1.30459373e-01,\n",
       "         2.43956207e+00,  -2.17609850e+00,  -4.09591445e-01,\n",
       "        -2.51236845e-01,  -7.56191727e-01,  -6.07342434e-01,\n",
       "        -2.17163888e-01,   1.13762008e-01,  -1.79504003e+00,\n",
       "         9.70455176e-01,  -7.98124113e-01,  -8.46831140e-02,\n",
       "         2.88632017e-01,  -1.67700479e+00,   1.22570730e+00,\n",
       "        -2.87904290e-01,   2.88335925e-01,  -7.71034796e-01,\n",
       "        -1.26447532e+00,  -2.17146272e-01,  -6.07405629e-01,\n",
       "         5.70518967e-01,  -9.13623480e-01,   1.06454272e+00,\n",
       "        -8.23554113e-01,  -7.54844211e-01,   9.56397457e-01,\n",
       "        -7.14966493e-01,  -2.41466266e-01,  -1.37209088e+00,\n",
       "        -1.51636995e+00,  -1.78386865e+00,   2.08650314e+00,\n",
       "        -1.25444863e+00,  -1.29688174e-01,   4.03792483e-01,\n",
       "         1.15497701e-01,  -6.76520378e-02,  -6.05933395e-01,\n",
       "        -4.75536271e-01,   1.33382414e-01,   1.12511720e+00,\n",
       "        -1.89211328e+00,   5.22754532e-01,  -1.28098521e-01,\n",
       "         7.27333010e-02,   9.39939390e-01,   7.12355245e-01,\n",
       "         6.79921414e-01,  -9.65736346e-01,   3.83082160e-01,\n",
       "        -3.95491171e-02,   8.79003089e-01,  -1.41088676e+00,\n",
       "         2.35411465e-01,   1.41048123e+00,   8.79046198e-01,\n",
       "         1.65076835e+00,  -1.41758365e-01,   1.78309699e+00,\n",
       "         6.16676656e-01,   9.46873373e-01,  -1.73737968e-01,\n",
       "        -1.59892116e+00,   9.33555390e-01,  -8.93504056e-01,\n",
       "         1.03425258e+00,  -1.16230432e+00,  -5.95837523e-01,\n",
       "         5.23201276e-01,   2.22352504e-01,   6.45196744e-01,\n",
       "         8.11760084e-03,   2.14243834e-01,   8.57857552e-01,\n",
       "         8.29045324e-01,  -5.67811397e-02,   9.94667816e-01,\n",
       "         7.52626825e-01,   1.77533804e-01,   5.65556839e-01,\n",
       "         4.63655044e-01,   7.43947339e-01,   9.44340819e-01,\n",
       "         8.30734971e-01,   8.90860234e-01,   3.46980705e-01,\n",
       "         4.38665961e-01,  -2.17402215e-01,  -7.70934232e-01,\n",
       "         1.34572956e-02,  -1.38400082e+00,  -4.99559090e-01,\n",
       "         1.17584150e+00,   2.65758069e-01,  -8.15315932e-01,\n",
       "         1.02561340e+00,   1.02967749e+00,   6.04029002e-01,\n",
       "         4.10806061e-01,   9.95165843e-01,  -1.86814420e+00,\n",
       "         2.00021651e+00,  -8.88501968e-02,  -9.38059618e-02,\n",
       "         6.46093280e-02,   8.70693469e-01,  -1.56467559e+00,\n",
       "         4.49518008e-01,   1.75674967e+00,  -7.40284333e-01,\n",
       "         8.21402131e-01,   8.73478083e-01,  -9.55532735e-01,\n",
       "         1.27440778e+00,   7.07530839e-01,   3.36969057e-01,\n",
       "        -1.18372946e+00,   2.33242276e+00,  -3.63202345e-01,\n",
       "        -8.21227479e-01,   9.14236266e-01,  -4.21281219e-01,\n",
       "        -1.27967963e+00,  -1.01251305e+00,   9.85341106e-01,\n",
       "        -1.33788877e+00,  -6.11413519e-01,   3.91430236e-01,\n",
       "        -6.42927761e-01,  -7.44445734e-01,   8.42906575e-01,\n",
       "         1.01459693e-01,  -1.46156181e+00,   2.25610863e+00,\n",
       "        -3.87839559e-01,  -1.08023149e+00,   1.04146926e+00,\n",
       "        -6.27493401e-01,  -7.60933373e-01,   1.72587536e-01,\n",
       "         7.27697855e-01,  -2.08675007e+00,   5.73437898e-01,\n",
       "         1.13653691e+00,   1.16329182e-01,   9.34682008e-01,\n",
       "         4.69792704e-01,  -9.35176600e-01,  -5.93449789e-01,\n",
       "         6.13030953e-01,  -5.33002107e-01,  -6.57374702e-01,\n",
       "        -5.00357647e-01,  -4.36978048e-01,  -1.02262617e+00,\n",
       "         1.49682098e+00,   2.80900273e-01,  -2.55820100e-01,\n",
       "         1.90475077e+00,   1.46164338e+00,  -3.38496586e-01,\n",
       "         1.10014685e+00,   5.21078102e-01,   3.02916573e-01,\n",
       "         6.68557776e-01,   1.07819942e+00,  -1.81513587e+00,\n",
       "         1.73596210e+00,  -1.18858222e+00,   5.47826804e-01,\n",
       "        -6.73975417e-01,   1.85971294e+00,  -1.09707491e+00,\n",
       "        -3.20632204e-01,   3.63453705e-01,  -4.08021364e-01,\n",
       "         2.31972962e+00,  -5.54393986e-01,   1.57635999e+00,\n",
       "         4.62235936e-01,  -4.18742821e-01,   2.09280657e+00])"
      ]
     },
     "execution_count": 578,
     "metadata": {},
     "output_type": "execute_result"
    }
   ],
   "source": [
    "conv(Y,fhat)"
   ]
  },
  {
   "cell_type": "code",
   "execution_count": 580,
   "metadata": {
    "slideshow": {
     "slide_type": "notes"
    }
   },
   "outputs": [
    {
     "data": {
      "text/plain": [
       "(array([  10.,   44.,   83.,  153.,  205.,  195.,  169.,   70.,   19.,   12.]),\n",
       " array([-7.01883246, -6.44443083, -5.87002921, -5.29562758, -4.72122595,\n",
       "        -4.14682433, -3.5724227 , -2.99802107, -2.42361944, -1.84921782,\n",
       "        -1.27481619]),\n",
       " <a list of 10 Patch objects>)"
      ]
     },
     "execution_count": 580,
     "metadata": {},
     "output_type": "execute_result"
    },
    {
     "data": {
      "image/png": "[encoded data removed]",
      "text/plain": [
       "<matplotlib.figure.Figure at 0x70b33fb172b0>"
      ]
     },
     "metadata": {},
     "output_type": "display_data"
    }
   ],
   "source": [
    "plt.hist(conv(Y,fhat)-(2.5*np.log(n*delta))**0.5)"
   ]
  }
 ],
 "metadata": {
  "celltoolbar": "Slideshow",
  "kernelspec": {
   "display_name": "Python 3",
   "language": "python",
   "name": "python3"
  },
  "language_info": {
   "codemirror_mode": {
    "name": "ipython",
    "version": 3
   },
   "file_extension": ".py",
   "mimetype": "text/x-python",
   "name": "python",
   "nbconvert_exporter": "python",
   "pygments_lexer": "ipython3",
   "version": "3.6.1"
  }
 },
 "nbformat": 4,
 "nbformat_minor": 2
}
